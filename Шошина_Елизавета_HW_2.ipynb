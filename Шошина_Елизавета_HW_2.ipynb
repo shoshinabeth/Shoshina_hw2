{
  "nbformat": 4,
  "nbformat_minor": 0,
  "metadata": {
    "kernelspec": {
      "display_name": "Python 3 (ipykernel)",
      "language": "python",
      "name": "python3"
    },
    "language_info": {
      "codemirror_mode": {
        "name": "ipython",
        "version": 3
      },
      "file_extension": ".py",
      "mimetype": "text/x-python",
      "name": "python",
      "nbconvert_exporter": "python",
      "pygments_lexer": "ipython3",
      "version": "3.8.6"
    },
    "colab": {
      "name": "Шошина_Елизавета_HW-2.ipynb",
      "provenance": [],
      "collapsed_sections": []
    }
  },
  "cells": [
    {
      "cell_type": "markdown",
      "metadata": {
        "id": "A3posBit_v77"
      },
      "source": [
        "# Домашнее задание №2 ( балла)\n",
        "\n",
        "## дедлайн 7 октября 18:10\n",
        "### 10 или 9 можно получить, если сдать домашнее задание полностью до 3 октября 23:59, а также верно выполнить задания со звездочками\n",
        "\n",
        "\n",
        "Цель:\n",
        "\n",
        "Отработать навыки работы с основными типами данных в Python.\n",
        "Отработать навыки работы с основными структурами данных в Python."
      ]
    },
    {
      "cell_type": "markdown",
      "metadata": {
        "id": "V3_p-c6m_v78"
      },
      "source": [
        "**NB!** Задания необходимо выполнять таким образом, что переменную/-ые можно было заменить на схожее слово/число/текст/список/и т.д., при этом задание все равно выполнялось бы верно."
      ]
    },
    {
      "cell_type": "markdown",
      "metadata": {
        "id": "5IHy3DUz_v8G"
      },
      "source": [
        "### Часть 1. Списки (16 баллов)"
      ]
    },
    {
      "cell_type": "markdown",
      "metadata": {
        "id": "LF37caBG_v8G"
      },
      "source": [
        "1. (2 балла) Пользователь вводит несколько чисел через запятую. Сделайте из этих чисел список, подсчитайте сумму элементов, среднее, максимальное и минимальное значение. Все результаты подсчетов выведите на экран"
      ]
    },
    {
      "cell_type": "code",
      "metadata": {
        "id": "-LK-7l2V_v8G",
        "colab": {
          "base_uri": "https://localhost:8080/"
        },
        "outputId": "46c24ed9-699e-462b-952d-a70ee28d79bf"
      },
      "source": [
        "# your code here\n",
        "numbers = input(\"введите числа через запятую: \")\n",
        "numbers_ = [float(i) for i in numbers.split(\", \")]\n",
        "numbers2 = []\n",
        "for i in numbers.split(\", \"):\n",
        "    numbers2.append(float(i))\n",
        "\n",
        "print(numbers2)\n",
        "print(sum(numbers2))\n",
        "print(sum(numbers2)/len(numbers2))\n",
        "print(max(numbers2))\n",
        "print(min(numbers2))"
      ],
      "execution_count": 7,
      "outputs": [
        {
          "output_type": "stream",
          "name": "stdout",
          "text": [
            "введите числа через запятую: 3, 5, 7\n",
            "[3.0, 5.0, 7.0]\n",
            "15.0\n",
            "5.0\n",
            "7.0\n",
            "3.0\n"
          ]
        }
      ]
    },
    {
      "cell_type": "markdown",
      "metadata": {
        "id": "KLUTNmQk_v8G"
      },
      "source": [
        "2. (2 балла) Даны два списка. \"Слить\" их через один (чередуя элементы то одного, то другого списка).\n",
        "\n",
        "`f = [1,2,3]`\n",
        "\n",
        "`s = ['1','2','3']`\n",
        "\n",
        "Ожидаемый результат:\n",
        "\n",
        "`[1, '1', 2, '2', 3, '3']`\n"
      ]
    },
    {
      "cell_type": "markdown",
      "metadata": {
        "id": "1be1P1k5_v8H"
      },
      "source": [
        "* _Список может быть любого размера (но они могут быть одинаковые), а ваш код все равно должен работать._\n",
        "* _можно заработать + 2 балла к заданию, если сделать его в одну строку_"
      ]
    },
    {
      "cell_type": "code",
      "metadata": {
        "id": "y1VqZ_7P_v8H",
        "colab": {
          "base_uri": "https://localhost:8080/"
        },
        "outputId": "3e4201e2-b278-4665-d57c-916a4cea362e"
      },
      "source": [
        "f = [1,2,3,4]\n",
        "s = ['1','2','3','4']\n",
        "res = []\n",
        "[res.extend(el) for el in zip(f, s)]\n",
        "res"
      ],
      "execution_count": 3,
      "outputs": [
        {
          "output_type": "execute_result",
          "data": {
            "text/plain": [
              "[1, '1', 2, '2', 3, '3', 4, '4']"
            ]
          },
          "metadata": {},
          "execution_count": 3
        }
      ]
    },
    {
      "cell_type": "markdown",
      "metadata": {
        "id": "wAsDtE_0_v8H"
      },
      "source": [
        "3. (4 балла) Создайте следующий лист: \n",
        "\n",
        "`months = [\n",
        "'Декабрь', 'Январь', 'Февраль',\n",
        "'Март', 'Апрель', 'Май',\n",
        "'Июнь', 'Июль', 'Август',\n",
        "'Сентябрь', 'Октябрь', 'Ноябрь'\n",
        "]`. \n",
        "\n",
        "Ваша задача получить из него:\n",
        "    - все зимние месяцы\n",
        "    - все летние месяцы\n",
        "    - каждый второй месяц года начиная с Января\n",
        "    - первые месяцы каждого сезона (4),\n",
        "\n",
        "используя `slice`."
      ]
    },
    {
      "cell_type": "code",
      "metadata": {
        "id": "ol-aAzBb_v8H",
        "colab": {
          "base_uri": "https://localhost:8080/"
        },
        "outputId": "97e16fb3-f243-4f8b-c882-1fb69b390d53"
      },
      "source": [
        "# your code here\n",
        "months = ['Декабрь', 'Январь', 'Февраль', 'Март', 'Апрель', 'Май', 'Июнь', 'Июль', 'Август', 'Сентябрь', 'Октябрь', 'Ноябрь' ]\n",
        "\n",
        "months[:3], months[6:9], months[2::2], months[::3]"
      ],
      "execution_count": 5,
      "outputs": [
        {
          "output_type": "execute_result",
          "data": {
            "text/plain": [
              "(['Декабрь', 'Январь', 'Февраль'],\n",
              " ['Июнь', 'Июль', 'Август'],\n",
              " ['Февраль', 'Апрель', 'Июнь', 'Август', 'Октябрь'],\n",
              " ['Декабрь', 'Март', 'Июнь', 'Сентябрь'])"
            ]
          },
          "metadata": {},
          "execution_count": 5
        }
      ]
    },
    {
      "cell_type": "markdown",
      "metadata": {
        "id": "dyFDN1th_v8H"
      },
      "source": [
        "4. (3 балла) Создайте list \n",
        "\n",
        "`weekdays = ['Понедельник', 2, 'Cреда', 'Четверг', 5]`\n",
        "\n",
        "- Исправьте числа 2 и 5 на Вторник и Пятницу соответственно\n",
        "- Добавьте недостающие дни в конец списка\n",
        "- Посчитайте длину итогового листа"
      ]
    },
    {
      "cell_type": "code",
      "metadata": {
        "id": "mpUCmwn4_v8H",
        "colab": {
          "base_uri": "https://localhost:8080/"
        },
        "outputId": "75eb0bb1-30e7-4414-9c56-0ba6c086735e"
      },
      "source": [
        "# your code here\n",
        "weekdays = ['Понедельник', 2, 'Cреда', 'Четверг', 5]\n",
        "weekdays[1] = 'Вторник'\n",
        "weekdays[4] = 'Пятница'\n",
        "weekdays.extend(['Суббота', 'Воскресенье'])\n",
        "print(len(weekdays))\n",
        "print(weekdays)\n"
      ],
      "execution_count": 16,
      "outputs": [
        {
          "output_type": "stream",
          "name": "stdout",
          "text": [
            "7\n",
            "['Понедельник', 'Вторник', 'Cреда', 'Четверг', 'Пятница', 'Суббота', 'Воскресенье']\n"
          ]
        }
      ]
    },
    {
      "cell_type": "markdown",
      "metadata": {
        "id": "sX7Pyq8d_v8H"
      },
      "source": [
        "5. (3 балла) Создайте строку (str) `'йтцыу фочтмлзирчйнбою асапырйафвялгяшещшоьрскяу!й'`\n",
        "\n",
        "    - Превратите ее в лист символов\n",
        "    - Расшифруйте закодированное в ней сообщение, выбрав из всех символов только символы с **нечетным** индексом\n",
        "    - Превратите полученный лист обратно в строку и напечатайте результат\n",
        "\n",
        "**Hint** вам понадобится функция `.join()`"
      ]
    },
    {
      "cell_type": "code",
      "metadata": {
        "id": "fJozshnzC69S",
        "colab": {
          "base_uri": "https://localhost:8080/"
        },
        "outputId": "6d416702-e568-49a4-d1bb-2ca2ee956abb"
      },
      "source": [
        "# your code here\n",
        "str = 'йтцыу фочтмлзирчйнбою асапырйафвялгяшещшоьрскяу!й'\n",
        "arr = [x for x in str]\n",
        "encoded = arr[1::2]\n",
        "print(encoded)\n",
        "joined_arr = ''.join(encoded)\n",
        "print(joined_arr)"
      ],
      "execution_count": 25,
      "outputs": [
        {
          "output_type": "stream",
          "name": "stdout",
          "text": [
            "['т', 'ы', ' ', 'о', 'т', 'л', 'и', 'ч', 'н', 'о', ' ', 'с', 'п', 'р', 'а', 'в', 'л', 'я', 'е', 'ш', 'ь', 'с', 'я', '!']\n",
            "ты отлично справляешься!\n"
          ]
        }
      ]
    },
    {
      "cell_type": "markdown",
      "metadata": {
        "id": "hI1vaX97DLgo"
      },
      "source": [
        "6. (2 балла) Дан список (придумайте любой и положите в переменную `my_list`, `input()` использовать не нужно). Проверить, содержит ли данный список повторяющиеся элементы, удалить повторяющиеся элементы (без использования `dict` и `set`)"
      ]
    },
    {
      "cell_type": "code",
      "metadata": {
        "id": "c4_1mkhp_v8H",
        "colab": {
          "base_uri": "https://localhost:8080/"
        },
        "outputId": "fcc27ce4-c174-4def-c075-fbe699f7d52a"
      },
      "source": [
        "# your code here\n",
        "my_list = [1, 2, 1, 4, 2, 3, 5, 6]\n",
        "res = []\n",
        "for i in my_list:\n",
        "  if i not in res:\n",
        "    res.append(i)\n",
        "res"
      ],
      "execution_count": 9,
      "outputs": [
        {
          "output_type": "execute_result",
          "data": {
            "text/plain": [
              "[1, 2, 4, 3, 5, 6]"
            ]
          },
          "metadata": {},
          "execution_count": 9
        }
      ]
    },
    {
      "cell_type": "markdown",
      "metadata": {
        "id": "nSJWKkvq_v8I"
      },
      "source": [
        "### Часть 2. Кортежи (3 балла)"
      ]
    },
    {
      "cell_type": "markdown",
      "metadata": {
        "id": "hFX4GTq1_v8I"
      },
      "source": [
        "29. (1 балл) Создать кортеж из одного элемента."
      ]
    },
    {
      "cell_type": "code",
      "metadata": {
        "id": "_qcdWtzz_v8I",
        "colab": {
          "base_uri": "https://localhost:8080/"
        },
        "outputId": "4859292f-d64f-4656-b68d-108bd99ad302"
      },
      "source": [
        "# your code here\n",
        "tup = ('a', )\n",
        "tup"
      ],
      "execution_count": 26,
      "outputs": [
        {
          "output_type": "execute_result",
          "data": {
            "text/plain": [
              "('a',)"
            ]
          },
          "metadata": {},
          "execution_count": 26
        }
      ]
    },
    {
      "cell_type": "markdown",
      "metadata": {
        "id": "WFrsJtZr_v8I"
      },
      "source": [
        "30. (1 балл) Создайте кортеж из списка, напечатайте его.\n",
        "\n",
        "`months = [\n",
        "'Январь', 'Февраль',\n",
        "'Март', 'Апрель', 'Май',\n",
        "'Июнь', 'Июль', 'Август',\n",
        "'Сентябрь', 'Октябрь', 'Ноябрь'\n",
        "]`"
      ]
    },
    {
      "cell_type": "code",
      "metadata": {
        "id": "1zL4nMN4_v8I",
        "colab": {
          "base_uri": "https://localhost:8080/"
        },
        "outputId": "c4215d0d-0ec4-4691-ec8c-6eeb6a5bd2e3"
      },
      "source": [
        "# your code here\n",
        "months = [ 'Январь', 'Февраль', 'Март', 'Апрель', 'Май', 'Июнь', 'Июль', 'Август', 'Сентябрь', 'Октябрь', 'Ноябрь' ]\n",
        "months_tup = tuple(months)\n",
        "months_tup"
      ],
      "execution_count": 35,
      "outputs": [
        {
          "output_type": "execute_result",
          "data": {
            "text/plain": [
              "('Январь',\n",
              " 'Февраль',\n",
              " 'Март',\n",
              " 'Апрель',\n",
              " 'Май',\n",
              " 'Июнь',\n",
              " 'Июль',\n",
              " 'Август',\n",
              " 'Сентябрь',\n",
              " 'Октябрь',\n",
              " 'Ноябрь')"
            ]
          },
          "metadata": {},
          "execution_count": 35
        }
      ]
    },
    {
      "cell_type": "markdown",
      "metadata": {
        "id": "iGn7e0Ow_v8I"
      },
      "source": [
        "31. (1 балл) Добавьте недостающий месяц (на выходе ожидается кортеж)"
      ]
    },
    {
      "cell_type": "code",
      "metadata": {
        "id": "ZdD0BuYU_v8I",
        "colab": {
          "base_uri": "https://localhost:8080/"
        },
        "outputId": "2030c618-c1ef-476a-e9d2-d53b91d23a6d"
      },
      "source": [
        "# your code here\n",
        "months.append('Декабрь')\n",
        "tuple(months)"
      ],
      "execution_count": 36,
      "outputs": [
        {
          "output_type": "execute_result",
          "data": {
            "text/plain": [
              "('Январь',\n",
              " 'Февраль',\n",
              " 'Март',\n",
              " 'Апрель',\n",
              " 'Май',\n",
              " 'Июнь',\n",
              " 'Июль',\n",
              " 'Август',\n",
              " 'Сентябрь',\n",
              " 'Октябрь',\n",
              " 'Ноябрь',\n",
              " 'Декабрь')"
            ]
          },
          "metadata": {},
          "execution_count": 36
        }
      ]
    },
    {
      "cell_type": "markdown",
      "metadata": {
        "id": "netCKvWK_v8I"
      },
      "source": [
        "### Часть 3. Сеты (4 балла)"
      ]
    },
    {
      "cell_type": "markdown",
      "metadata": {
        "id": "vmpZWO8Z_v8I"
      },
      "source": [
        "32. (1 балл) Посчитать, сколько различных букв в слове 'превысокомногорассмотрительствующий'"
      ]
    },
    {
      "cell_type": "code",
      "metadata": {
        "id": "IUBHgO78_v8J",
        "colab": {
          "base_uri": "https://localhost:8080/"
        },
        "outputId": "242cdf96-8045-4e7b-b6c1-a14c4a3848e5"
      },
      "source": [
        "# your code here\n",
        "str = 'превысокомногорассмотрительствующий'\n",
        "str_set = set(str)\n",
        "len(str_set)"
      ],
      "execution_count": 37,
      "outputs": [
        {
          "output_type": "execute_result",
          "data": {
            "text/plain": [
              "20"
            ]
          },
          "metadata": {},
          "execution_count": 37
        }
      ]
    },
    {
      "cell_type": "markdown",
      "metadata": {
        "id": "EtPaMLQO_v8J"
      },
      "source": [
        "33. (1 балл) Какие различные буквы имеют слова \"превысокомногорассмотрительствующий\" и \"водогрязеторфопарафинолечение\"?"
      ]
    },
    {
      "cell_type": "code",
      "metadata": {
        "id": "dwIdysLu_v8J",
        "colab": {
          "base_uri": "https://localhost:8080/"
        },
        "outputId": "e9461e10-bcb6-40c8-9bb4-2e9d36963fdb"
      },
      "source": [
        "# your code here\n",
        "first_str = 'превысокомногорассмотрительствующий'\n",
        "second_str = 'водогрязеторфопарафинолечение'\n",
        "first_set = set(first_str)\n",
        "second_set = set(second_str)\n",
        "first_set.difference(second_set)"
      ],
      "execution_count": 38,
      "outputs": [
        {
          "output_type": "execute_result",
          "data": {
            "text/plain": [
              "{'й', 'к', 'м', 'с', 'у', 'щ', 'ы', 'ь', 'ю'}"
            ]
          },
          "metadata": {},
          "execution_count": 38
        }
      ]
    },
    {
      "cell_type": "markdown",
      "metadata": {
        "id": "UQxsVL3w_v8J"
      },
      "source": [
        "34. (1 балл) Какие общие буквы имеют слова \"превысокомногорассмотрительствующий\" и \"водогрязеторфопарафинолечение\"?"
      ]
    },
    {
      "cell_type": "code",
      "metadata": {
        "id": "unSFfV_a_v8J",
        "colab": {
          "base_uri": "https://localhost:8080/"
        },
        "outputId": "11065693-9929-4f2a-fba8-b3868f14c290"
      },
      "source": [
        "# your code here\n",
        "first_set.intersection(second_set)"
      ],
      "execution_count": 39,
      "outputs": [
        {
          "output_type": "execute_result",
          "data": {
            "text/plain": [
              "{'а', 'в', 'г', 'е', 'и', 'л', 'н', 'о', 'п', 'р', 'т'}"
            ]
          },
          "metadata": {},
          "execution_count": 39
        }
      ]
    },
    {
      "cell_type": "markdown",
      "metadata": {
        "id": "GauGi3oF_v8J"
      },
      "source": [
        "35. (1 балл) Есть ли буквы в слове \"превысокомногорассмотрительствующий\", которых нет в слове \"водогрязеторфопарафинолечение\"? А наоборот?"
      ]
    },
    {
      "cell_type": "code",
      "metadata": {
        "id": "TfTtSHFY_v8J",
        "colab": {
          "base_uri": "https://localhost:8080/"
        },
        "outputId": "206d2339-e268-4cee-a1b4-8c7a8cb25b06"
      },
      "source": [
        "# your code here\n",
        "print(first_set.isdisjoint(second_set))\n",
        "print(second_set.isdisjoint(first_set))"
      ],
      "execution_count": 42,
      "outputs": [
        {
          "output_type": "stream",
          "name": "stdout",
          "text": [
            "False\n",
            "False\n"
          ]
        }
      ]
    },
    {
      "cell_type": "markdown",
      "metadata": {
        "id": "E2sczfkn_v8J"
      },
      "source": [
        "### Часть 6. Словари и полезные вещи (10 баллов)"
      ]
    },
    {
      "cell_type": "markdown",
      "metadata": {
        "id": "VxZ4E8JhEHxD"
      },
      "source": [
        "Дан текст. Текст приведен к начальной форме уже за вас (мы это научимся делать на следующем занятии).\n",
        "```\n",
        "1. DJ Khaled замутить трек, в который читать только Drake. \n",
        "2. Drake организовывать на этот песня очень крутой клип, в который вместо он сниматься только джастин бибер.\n",
        "\n",
        "видимо, награда за весь это быть получать леонардо дикаприо 😅\n",
        "\n",
        "в клип джастин, кстати, выглядеть очень бодрый и наконец выздоравливать от болезнь и депрессия.\n",
        "отдельный прикол в то, что он там «читать» строчка про свой бывший девушка селен гомес, про себя сам и про то, насколько дрейк - крутой они все и взрывать индустрия 😂🤟\n",
        "```"
      ]
    },
    {
      "cell_type": "markdown",
      "metadata": {
        "id": "hGBIV3hS_v8K"
      },
      "source": [
        "36. (1 балл) Запишите его в переменную. Обратите внимание, что текст многострочный -- переносы строки нужно сохранить!"
      ]
    },
    {
      "cell_type": "code",
      "metadata": {
        "id": "BLB2YgyY_v8K",
        "colab": {
          "base_uri": "https://localhost:8080/",
          "height": 86
        },
        "outputId": "77279544-4df2-4ed5-f9cb-013cbc144700"
      },
      "source": [
        "# your code here\n",
        "text = '''1. DJ Khaled замутить трек, в который читать только Drake. \n",
        "2. Drake организовывать на этот песня очень крутой клип, в который вместо он сниматься только джастин бибер.\n",
        "\n",
        "видимо, награда за весь это быть получать леонардо дикаприо 😅\n",
        "\n",
        "в клип джастин, кстати, выглядеть очень бодрый и наконец выздоравливать от болезнь и депрессия.\n",
        "отдельный прикол в то, что он там «читать» строчка про свой бывший девушка селен гомес, про себя сам и про то, насколько дрейк - крутой они все и взрывать индустрия 😂🤟'''\n",
        "text"
      ],
      "execution_count": 15,
      "outputs": [
        {
          "output_type": "execute_result",
          "data": {
            "application/vnd.google.colaboratory.intrinsic+json": {
              "type": "string"
            },
            "text/plain": [
              "'1. DJ Khaled замутить трек, в который читать только Drake. \\n2. Drake организовывать на этот песня очень крутой клип, в который вместо он сниматься только джастин бибер.\\n\\nвидимо, награда за весь это быть получать леонардо дикаприо 😅\\n\\nв клип джастин, кстати, выглядеть очень бодрый и наконец выздоравливать от болезнь и депрессия.\\nотдельный прикол в то, что он там «читать» строчка про свой бывший девушка селен гомес, про себя сам и про то, насколько дрейк - крутой они все и взрывать индустрия 😂🤟'"
            ]
          },
          "metadata": {},
          "execution_count": 15
        }
      ]
    },
    {
      "cell_type": "markdown",
      "metadata": {
        "id": "Z2529Ids_v8K"
      },
      "source": [
        "37. (1 балл) Разделите текст на предложения (только при помощи `\"\\n\"`)"
      ]
    },
    {
      "cell_type": "code",
      "metadata": {
        "id": "DWR1Ckig_v8K",
        "colab": {
          "base_uri": "https://localhost:8080/"
        },
        "outputId": "aac5b3a2-e064-430f-ec46-f4204340e891"
      },
      "source": [
        "# your code here\n",
        "sentences = [i for i in text.split('\\n') if i]\n",
        "sentences"
      ],
      "execution_count": 22,
      "outputs": [
        {
          "output_type": "execute_result",
          "data": {
            "text/plain": [
              "['1. DJ Khaled замутить трек, в который читать только Drake. ',\n",
              " '2. Drake организовывать на этот песня очень крутой клип, в который вместо он сниматься только джастин бибер.',\n",
              " 'видимо, награда за весь это быть получать леонардо дикаприо 😅',\n",
              " 'в клип джастин, кстати, выглядеть очень бодрый и наконец выздоравливать от болезнь и депрессия.',\n",
              " 'отдельный прикол в то, что он там «читать» строчка про свой бывший девушка селен гомес, про себя сам и про то, насколько дрейк - крутой они все и взрывать индустрия 😂🤟']"
            ]
          },
          "metadata": {},
          "execution_count": 22
        }
      ]
    },
    {
      "cell_type": "markdown",
      "metadata": {
        "id": "pa1_7zAS_v8K"
      },
      "source": [
        "38. (2 балла) Разделите предложения на слова, удалите пунктуацию до и после слов, используя `.strip()`. И кавычки тоже удалите."
      ]
    },
    {
      "cell_type": "code",
      "metadata": {
        "id": "Fj0ZPwO1_v8K",
        "colab": {
          "base_uri": "https://localhost:8080/"
        },
        "outputId": "b87bc66d-df4d-4ee5-821d-4c49d38cfa71"
      },
      "source": [
        "# your code here\n",
        "from string import punctuation\n",
        "punct = \",.«»-\"\n",
        "\n",
        "sentences_with_words = []\n",
        "\n",
        "for sentence in sentences:\n",
        "    sentences_with_words.append([i.strip(punct) for i in sentence.split()])\n",
        "\n",
        "sentences_with_words"
      ],
      "execution_count": 28,
      "outputs": [
        {
          "output_type": "execute_result",
          "data": {
            "text/plain": [
              "[['1',\n",
              "  'DJ',\n",
              "  'Khaled',\n",
              "  'замутить',\n",
              "  'трек',\n",
              "  'в',\n",
              "  'который',\n",
              "  'читать',\n",
              "  'только',\n",
              "  'Drake'],\n",
              " ['2',\n",
              "  'Drake',\n",
              "  'организовывать',\n",
              "  'на',\n",
              "  'этот',\n",
              "  'песня',\n",
              "  'очень',\n",
              "  'крутой',\n",
              "  'клип',\n",
              "  'в',\n",
              "  'который',\n",
              "  'вместо',\n",
              "  'он',\n",
              "  'сниматься',\n",
              "  'только',\n",
              "  'джастин',\n",
              "  'бибер'],\n",
              " ['видимо',\n",
              "  'награда',\n",
              "  'за',\n",
              "  'весь',\n",
              "  'это',\n",
              "  'быть',\n",
              "  'получать',\n",
              "  'леонардо',\n",
              "  'дикаприо',\n",
              "  '😅'],\n",
              " ['в',\n",
              "  'клип',\n",
              "  'джастин',\n",
              "  'кстати',\n",
              "  'выглядеть',\n",
              "  'очень',\n",
              "  'бодрый',\n",
              "  'и',\n",
              "  'наконец',\n",
              "  'выздоравливать',\n",
              "  'от',\n",
              "  'болезнь',\n",
              "  'и',\n",
              "  'депрессия'],\n",
              " ['отдельный',\n",
              "  'прикол',\n",
              "  'в',\n",
              "  'то',\n",
              "  'что',\n",
              "  'он',\n",
              "  'там',\n",
              "  'читать',\n",
              "  'строчка',\n",
              "  'про',\n",
              "  'свой',\n",
              "  'бывший',\n",
              "  'девушка',\n",
              "  'селен',\n",
              "  'гомес',\n",
              "  'про',\n",
              "  'себя',\n",
              "  'сам',\n",
              "  'и',\n",
              "  'про',\n",
              "  'то',\n",
              "  'насколько',\n",
              "  'дрейк',\n",
              "  '',\n",
              "  'крутой',\n",
              "  'они',\n",
              "  'все',\n",
              "  'и',\n",
              "  'взрывать',\n",
              "  'индустрия',\n",
              "  '😂🤟']]"
            ]
          },
          "metadata": {},
          "execution_count": 28
        }
      ]
    },
    {
      "cell_type": "markdown",
      "metadata": {
        "id": "H6JJW1GH_v8K"
      },
      "source": [
        "39. (2 балла) Создайте словарь, в котором ключ -- слово из текста, а значение -- количество раз, сколько оно встречается во всем тексте.\n",
        "\n",
        "например:\n",
        "\n",
        "`dct = {\"go\": 1, \"went\": 2, \"gone\": 3}`\n",
        "\n",
        "Напечатайте словарь"
      ]
    },
    {
      "cell_type": "code",
      "metadata": {
        "id": "cy5_T8yM_v8L",
        "colab": {
          "base_uri": "https://localhost:8080/"
        },
        "outputId": "2924e7bb-ebf3-472f-ba74-14a115e18bc0"
      },
      "source": [
        "# your code here\n",
        "from collections import defaultdict\n",
        "dct = defaultdict(int)\n",
        "for sentence in sentences_with_words:\n",
        "  for word in sentence:\n",
        "    dct[word] += 1\n",
        "dct"
      ],
      "execution_count": 26,
      "outputs": [
        {
          "output_type": "execute_result",
          "data": {
            "text/plain": [
              "defaultdict(int,\n",
              "            {'': 1,\n",
              "             '1': 1,\n",
              "             '2': 1,\n",
              "             'DJ': 1,\n",
              "             'Drake': 2,\n",
              "             'Khaled': 1,\n",
              "             'бибер': 1,\n",
              "             'бодрый': 1,\n",
              "             'болезнь': 1,\n",
              "             'бывший': 1,\n",
              "             'быть': 1,\n",
              "             'в': 4,\n",
              "             'весь': 1,\n",
              "             'взрывать': 1,\n",
              "             'видимо': 1,\n",
              "             'вместо': 1,\n",
              "             'все': 1,\n",
              "             'выглядеть': 1,\n",
              "             'выздоравливать': 1,\n",
              "             'гомес': 1,\n",
              "             'девушка': 1,\n",
              "             'депрессия': 1,\n",
              "             'джастин': 2,\n",
              "             'дикаприо': 1,\n",
              "             'дрейк': 1,\n",
              "             'за': 1,\n",
              "             'замутить': 1,\n",
              "             'и': 4,\n",
              "             'индустрия': 1,\n",
              "             'клип': 2,\n",
              "             'который': 2,\n",
              "             'крутой': 2,\n",
              "             'кстати': 1,\n",
              "             'леонардо': 1,\n",
              "             'на': 1,\n",
              "             'награда': 1,\n",
              "             'наконец': 1,\n",
              "             'насколько': 1,\n",
              "             'он': 2,\n",
              "             'они': 1,\n",
              "             'организовывать': 1,\n",
              "             'от': 1,\n",
              "             'отдельный': 1,\n",
              "             'очень': 2,\n",
              "             'песня': 1,\n",
              "             'получать': 1,\n",
              "             'прикол': 1,\n",
              "             'про': 3,\n",
              "             'сам': 1,\n",
              "             'свой': 1,\n",
              "             'себя': 1,\n",
              "             'селен': 1,\n",
              "             'сниматься': 1,\n",
              "             'строчка': 1,\n",
              "             'там': 1,\n",
              "             'то': 2,\n",
              "             'только': 2,\n",
              "             'трек': 1,\n",
              "             'читать': 2,\n",
              "             'что': 1,\n",
              "             'это': 1,\n",
              "             'этот': 1,\n",
              "             '😂🤟': 1,\n",
              "             '😅': 1})"
            ]
          },
          "metadata": {},
          "execution_count": 26
        }
      ]
    },
    {
      "cell_type": "markdown",
      "metadata": {
        "id": "lCKeMfMY_v8L"
      },
      "source": [
        "40. (2 балла) Напечатайте слова, встречающиеся более 1 раза в формате `\"слово кол-во раз\"` через пробел.\n",
        "\n",
        "    * Если сможете напечатать в порядке убывания (от большего к меньшему) + 2 балла"
      ]
    },
    {
      "cell_type": "code",
      "metadata": {
        "id": "bd5BAdeu_v8L",
        "colab": {
          "base_uri": "https://localhost:8080/"
        },
        "outputId": "a0045792-312f-4c73-ab1f-9845c866447b"
      },
      "source": [
        "# your code here\n",
        "dct = dict(sorted(dct.items(), key=lambda item: item[1], reverse=True))\n",
        "\n",
        "for word, count in dct.items():\n",
        "\tif count > 1:\n",
        "\t\tprint(f\"{word} - {count} раз\")"
      ],
      "execution_count": 29,
      "outputs": [
        {
          "output_type": "stream",
          "name": "stdout",
          "text": [
            "в - 4 раз\n",
            "и - 4 раз\n",
            "про - 3 раз\n",
            "который - 2 раз\n",
            "читать - 2 раз\n",
            "только - 2 раз\n",
            "Drake - 2 раз\n",
            "очень - 2 раз\n",
            "крутой - 2 раз\n",
            "клип - 2 раз\n",
            "он - 2 раз\n",
            "джастин - 2 раз\n",
            "то - 2 раз\n"
          ]
        }
      ]
    },
    {
      "cell_type": "markdown",
      "metadata": {
        "id": "6mEkbtQk_v8M"
      },
      "source": [
        "41. (2 балла) Пользователь вводит с клавиатуры какое-нибудь слово.\n",
        "Проверяем, есть ли слово в массиве: если нет, добавляем его туда и печатаем \"Слово X добавлено\", а если есть, то печатаем ответ \"Слово X в тексте N раз\"."
      ]
    },
    {
      "cell_type": "code",
      "metadata": {
        "id": "JvQMP8wR_v8M",
        "colab": {
          "base_uri": "https://localhost:8080/"
        },
        "outputId": "e65b5cd8-21ed-44db-9b9d-2fefa0726012"
      },
      "source": [
        "# your code here\n",
        "word = input()\n",
        "\n",
        "if word in dct:\n",
        "  print(f'слово {word} в тексте {dct[word]} раз')\n",
        "else:\n",
        "  dct[word] = 1\n",
        "  print(f'слово {word} добавлено')"
      ],
      "execution_count": 35,
      "outputs": [
        {
          "output_type": "stream",
          "name": "stdout",
          "text": [
            "кровосток\n",
            "слово кровосток добавлено\n"
          ]
        }
      ]
    },
    {
      "cell_type": "markdown",
      "metadata": {
        "id": "YTZ_hhhBFasx"
      },
      "source": [
        "## Задания со звездочкой (9 или 10 можно получить, решив эти задания)"
      ]
    },
    {
      "cell_type": "markdown",
      "metadata": {
        "id": "159FPHDYFpk1"
      },
      "source": [
        "42. По заданному n вывести левосторонний треугольник из следующих цифр:\n"
      ]
    },
    {
      "cell_type": "code",
      "metadata": {
        "colab": {
          "base_uri": "https://localhost:8080/"
        },
        "id": "KqJoZEUIFaEd",
        "outputId": "c89d2c6a-67f2-4382-d634-e18e73824c42"
      },
      "source": [
        "# your code here"
      ],
      "execution_count": null,
      "outputs": [
        {
          "output_type": "stream",
          "name": "stdout",
          "text": [
            "0\n",
            "0 1\n",
            "0 1 2\n",
            "0 1 2 3\n",
            "0 1 2 3 4\n",
            "0 1 2 3 4 5\n",
            "0 1 2 3 4 5 6\n",
            "0 1 2 3 4 5 6 7\n",
            "0 1 2 3 4 5 6 7 8\n",
            "0 1 2 3 4 5 6 7 8 9\n"
          ]
        }
      ]
    },
    {
      "cell_type": "code",
      "metadata": {
        "colab": {
          "base_uri": "https://localhost:8080/"
        },
        "id": "CqKQKoHTiCj8",
        "outputId": "d0af96c5-d815-4843-f6cb-f67adfa8a5f5"
      },
      "source": [
        "n = 10\n",
        "\n",
        "previous = []\n",
        "\n",
        "for i in range(n):\n",
        "    previous_list = \" \".join(previous)\n",
        "    print(f'{previous_list} {str(i)}'.strip())\n",
        "    previous.append(str(i))"
      ],
      "execution_count": null,
      "outputs": [
        {
          "output_type": "stream",
          "name": "stdout",
          "text": [
            "0\n",
            "0 1\n",
            "0 1 2\n",
            "0 1 2 3\n",
            "0 1 2 3 4\n",
            "0 1 2 3 4 5\n",
            "0 1 2 3 4 5 6\n",
            "0 1 2 3 4 5 6 7\n",
            "0 1 2 3 4 5 6 7 8\n",
            "0 1 2 3 4 5 6 7 8 9\n"
          ]
        }
      ]
    },
    {
      "cell_type": "code",
      "metadata": {
        "colab": {
          "base_uri": "https://localhost:8080/"
        },
        "id": "HvPHWZzUjuas",
        "outputId": "80472a8f-4531-44f6-eb06-49ccc15cc5f2"
      },
      "source": [
        "x = [0, 5, 1]\n",
        "print(*x)\n",
        "print(x)"
      ],
      "execution_count": null,
      "outputs": [
        {
          "output_type": "stream",
          "name": "stdout",
          "text": [
            "0 5 1\n",
            "[0, 5, 1]\n"
          ]
        }
      ]
    },
    {
      "cell_type": "markdown",
      "metadata": {
        "id": "-9rUNF4-Fofe"
      },
      "source": [
        "43. По заданному n вывести перевернутый правосторонний треугольник из следующих цифр"
      ]
    },
    {
      "cell_type": "code",
      "metadata": {
        "colab": {
          "base_uri": "https://localhost:8080/"
        },
        "id": "Sa7ZDOa-Fm7O",
        "outputId": "0af7d8f1-d190-45c8-ea53-ea787f7dbd71"
      },
      "source": [
        "#your code here\n",
        "n = 10\n",
        "\n",
        "previous = list(range(n))\n",
        "previous\n",
        "for i in range(n):\n",
        "    print(*previous)\n",
        "    previous.insert(i, \" \")\n",
        "    previous.pop()"
      ],
      "execution_count": 51,
      "outputs": [
        {
          "output_type": "stream",
          "name": "stdout",
          "text": [
            "0 1 2 3 4 5 6 7 8 9\n",
            "  0 1 2 3 4 5 6 7 8\n",
            "    0 1 2 3 4 5 6 7\n",
            "      0 1 2 3 4 5 6\n",
            "        0 1 2 3 4 5\n",
            "          0 1 2 3 4\n",
            "            0 1 2 3\n",
            "              0 1 2\n",
            "                0 1\n",
            "                  0\n"
          ]
        }
      ]
    },
    {
      "cell_type": "markdown",
      "metadata": {
        "id": "y1BSSdWe_v8N"
      },
      "source": [
        "#### Напишите ниже вашу обратную связь по домашнему заданию в комментарии. \n",
        "\n",
        "#### Какие задания показались вам самыми сложными / простыми? Что понравилось, а что нет?"
      ]
    },
    {
      "cell_type": "code",
      "metadata": {
        "id": "xciAjxQG_v8N"
      },
      "source": [
        ""
      ],
      "execution_count": null,
      "outputs": []
    }
  ]
}